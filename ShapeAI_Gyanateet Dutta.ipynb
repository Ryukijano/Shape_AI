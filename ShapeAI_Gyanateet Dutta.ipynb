{
 "cells": [
  {
   "cell_type": "code",
   "execution_count": 30,
   "id": "central-heath",
   "metadata": {},
   "outputs": [],
   "source": [
    "import pandas as pd\n",
    "import numpy as np\n",
    "%matplotlib inline\n",
    "import matplotlib as mpl\n",
    "import matplotlib.pyplot as plt"
   ]
  },
  {
   "cell_type": "code",
   "execution_count": 31,
   "id": "internal-faith",
   "metadata": {},
   "outputs": [],
   "source": [
    "import tensorflow as tf\n",
    "from tensorflow import keras"
   ]
  },
  {
   "cell_type": "code",
   "execution_count": 32,
   "id": "visible-marker",
   "metadata": {},
   "outputs": [],
   "source": [
    "digit_mnist = keras.datasets.mnist\n",
    "(X_train_full, y_train_full), (X_test, y_test) = digit_mnist.load_data()"
   ]
  },
  {
   "cell_type": "code",
   "execution_count": 33,
   "id": "processed-circuit",
   "metadata": {},
   "outputs": [],
   "source": [
    "X_train_full = X_train_full.reshape((60000,28,28,1))\n",
    "X_test = X_test.reshape((10000,28,28,1))"
   ]
  },
  {
   "cell_type": "code",
   "execution_count": 34,
   "id": "quiet-tolerance",
   "metadata": {},
   "outputs": [],
   "source": [
    "X_train_n = X_train_full /255.\n",
    "X_test_n = X_test/255."
   ]
  },
  {
   "cell_type": "code",
   "execution_count": 35,
   "id": "successful-candy",
   "metadata": {},
   "outputs": [],
   "source": [
    "X_valid, X_train = X_train_n[:5000], X_train_n[5000:]\n",
    "y_valid, y_train = y_train_full[:5000], y_train_full[5000:]\n",
    "X_test = X_test_n"
   ]
  },
  {
   "cell_type": "code",
   "execution_count": 36,
   "id": "dense-multimedia",
   "metadata": {},
   "outputs": [],
   "source": [
    "np.random.seed(42)\n",
    "tf.random.set_seed(42)"
   ]
  },
  {
   "cell_type": "code",
   "execution_count": 53,
   "id": "hairy-appointment",
   "metadata": {},
   "outputs": [],
   "source": [
    "model_a = keras.models.Sequential()\n",
    "model_a.add(keras.layers.Conv2D(filters = 32, kernel_size =(3,3), strides =1 , padding ='valid', activation = 'relu', input_shape =(28,28,1)))\n",
    "model_a.add(keras.layers.MaxPooling2D((2,2)))\n",
    "model_a.add(keras.layers.Flatten())\n",
    "model_a.add(keras.layers.Dense(200,activation=\"relu\"))\n",
    "model_a.add(keras.layers.Dense(100,activation=\"relu\"))\n",
    "model_a.add(keras.layers.Dense(10,activation=\"softmax\"))\n",
    "\n",
    "model_b = keras.models.Sequential()\n",
    "model_b.add(keras.layers.Conv2D(filters = 64,kernel_size =(3,3),strides = 1,padding='valid',activation='relu',input_shape = (28,28,1)))\n",
    "model_b.add(keras.layers.Flatten())\n",
    "model_b.add(keras.layers.Dense(300, activation =\"relu\"))\n",
    "model_b.add(keras.layers.Dense(100, activation = \"relu\"))\n",
    "model_b.add(keras.layers.Dense(10, activation=\"softmax\"))\n"
   ]
  },
  {
   "cell_type": "code",
   "execution_count": 54,
   "id": "raising-entry",
   "metadata": {},
   "outputs": [
    {
     "name": "stdout",
     "output_type": "stream",
     "text": [
      "Model: \"sequential_3\"\n",
      "_________________________________________________________________\n",
      "Layer (type)                 Output Shape              Param #   \n",
      "=================================================================\n",
      "conv2d_3 (Conv2D)            (None, 26, 26, 32)        320       \n",
      "_________________________________________________________________\n",
      "max_pooling2d_3 (MaxPooling2 (None, 13, 13, 32)        0         \n",
      "_________________________________________________________________\n",
      "flatten_3 (Flatten)          (None, 5408)              0         \n",
      "_________________________________________________________________\n",
      "dense_9 (Dense)              (None, 200)               1081800   \n",
      "_________________________________________________________________\n",
      "dense_10 (Dense)             (None, 100)               20100     \n",
      "_________________________________________________________________\n",
      "dense_11 (Dense)             (None, 10)                1010      \n",
      "=================================================================\n",
      "Total params: 1,103,230\n",
      "Trainable params: 1,103,230\n",
      "Non-trainable params: 0\n",
      "_________________________________________________________________\n",
      "Model: \"sequential_4\"\n",
      "_________________________________________________________________\n",
      "Layer (type)                 Output Shape              Param #   \n",
      "=================================================================\n",
      "conv2d_4 (Conv2D)            (None, 26, 26, 64)        640       \n",
      "_________________________________________________________________\n",
      "flatten_4 (Flatten)          (None, 43264)             0         \n",
      "_________________________________________________________________\n",
      "dense_12 (Dense)             (None, 300)               12979500  \n",
      "_________________________________________________________________\n",
      "dense_13 (Dense)             (None, 100)               30100     \n",
      "_________________________________________________________________\n",
      "dense_14 (Dense)             (None, 10)                1010      \n",
      "=================================================================\n",
      "Total params: 13,011,250\n",
      "Trainable params: 13,011,250\n",
      "Non-trainable params: 0\n",
      "_________________________________________________________________\n"
     ]
    }
   ],
   "source": [
    "model_a.summary()\n",
    "model_b.summary()"
   ]
  },
  {
   "cell_type": "code",
   "execution_count": 56,
   "id": "excellent-indicator",
   "metadata": {},
   "outputs": [],
   "source": [
    "model_a.compile(loss=\"sparse_categorical_crossentropy\",\n",
    "             optimizer=\"sgd\",\n",
    "             metrics=[\"accuracy\"])\n",
    "\n",
    "model_b.compile(loss=\"sparse_categorical_crossentropy\",\n",
    "             optimizer=\"sgd\",\n",
    "             metrics=[\"accuracy\"])"
   ]
  },
  {
   "cell_type": "code",
   "execution_count": 57,
   "id": "dedicated-construction",
   "metadata": {},
   "outputs": [
    {
     "name": "stdout",
     "output_type": "stream",
     "text": [
      "Epoch 1/60\n",
      "860/860 [==============================] - 13s 15ms/step - loss: 0.6970 - accuracy: 0.8172 - val_loss: 0.2790 - val_accuracy: 0.9206\n",
      "Epoch 2/60\n",
      "860/860 [==============================] - 12s 14ms/step - loss: 0.2660 - accuracy: 0.9222 - val_loss: 0.2165 - val_accuracy: 0.9370\n",
      "Epoch 3/60\n",
      "860/860 [==============================] - 12s 14ms/step - loss: 0.2105 - accuracy: 0.9378 - val_loss: 0.1689 - val_accuracy: 0.9504\n",
      "Epoch 4/60\n",
      "860/860 [==============================] - 12s 14ms/step - loss: 0.1737 - accuracy: 0.9490 - val_loss: 0.1495 - val_accuracy: 0.9554\n",
      "Epoch 5/60\n",
      "860/860 [==============================] - 12s 14ms/step - loss: 0.1485 - accuracy: 0.9565 - val_loss: 0.1333 - val_accuracy: 0.9596\n",
      "Epoch 6/60\n",
      "860/860 [==============================] - 13s 15ms/step - loss: 0.1298 - accuracy: 0.9616 - val_loss: 0.1145 - val_accuracy: 0.9662\n",
      "Epoch 7/60\n",
      "860/860 [==============================] - 12s 14ms/step - loss: 0.1143 - accuracy: 0.9663 - val_loss: 0.1045 - val_accuracy: 0.9684\n",
      "Epoch 8/60\n",
      "860/860 [==============================] - 12s 14ms/step - loss: 0.1022 - accuracy: 0.9692 - val_loss: 0.1176 - val_accuracy: 0.9638\n",
      "Epoch 9/60\n",
      "860/860 [==============================] - 13s 15ms/step - loss: 0.0930 - accuracy: 0.9725 - val_loss: 0.0875 - val_accuracy: 0.9744\n",
      "Epoch 10/60\n",
      "860/860 [==============================] - 13s 15ms/step - loss: 0.0851 - accuracy: 0.9748 - val_loss: 0.0784 - val_accuracy: 0.9770\n",
      "Epoch 11/60\n",
      "860/860 [==============================] - 12s 14ms/step - loss: 0.0779 - accuracy: 0.9763 - val_loss: 0.0799 - val_accuracy: 0.9776\n",
      "Epoch 12/60\n",
      "860/860 [==============================] - 12s 14ms/step - loss: 0.0714 - accuracy: 0.9788 - val_loss: 0.0911 - val_accuracy: 0.9708\n",
      "Epoch 13/60\n",
      "860/860 [==============================] - 12s 14ms/step - loss: 0.0669 - accuracy: 0.9797 - val_loss: 0.0867 - val_accuracy: 0.9722\n",
      "Epoch 14/60\n",
      "860/860 [==============================] - 12s 14ms/step - loss: 0.0622 - accuracy: 0.9814 - val_loss: 0.0702 - val_accuracy: 0.9786\n",
      "Epoch 15/60\n",
      "860/860 [==============================] - 12s 14ms/step - loss: 0.0578 - accuracy: 0.9830 - val_loss: 0.0778 - val_accuracy: 0.9768\n",
      "Epoch 16/60\n",
      "860/860 [==============================] - 13s 15ms/step - loss: 0.0541 - accuracy: 0.9837 - val_loss: 0.0645 - val_accuracy: 0.9798\n",
      "Epoch 17/60\n",
      "860/860 [==============================] - 12s 14ms/step - loss: 0.0511 - accuracy: 0.9846 - val_loss: 0.0633 - val_accuracy: 0.9816\n",
      "Epoch 18/60\n",
      "860/860 [==============================] - 12s 14ms/step - loss: 0.0486 - accuracy: 0.9852 - val_loss: 0.0615 - val_accuracy: 0.9822\n",
      "Epoch 19/60\n",
      "860/860 [==============================] - 12s 14ms/step - loss: 0.0450 - accuracy: 0.9862 - val_loss: 0.0579 - val_accuracy: 0.9832\n",
      "Epoch 20/60\n",
      "860/860 [==============================] - 12s 14ms/step - loss: 0.0435 - accuracy: 0.9867 - val_loss: 0.0610 - val_accuracy: 0.9820\n",
      "Epoch 21/60\n",
      "860/860 [==============================] - 12s 14ms/step - loss: 0.0405 - accuracy: 0.9878 - val_loss: 0.0574 - val_accuracy: 0.9836\n",
      "Epoch 22/60\n",
      "860/860 [==============================] - 13s 15ms/step - loss: 0.0386 - accuracy: 0.9886 - val_loss: 0.0638 - val_accuracy: 0.9808\n",
      "Epoch 23/60\n",
      "860/860 [==============================] - 13s 15ms/step - loss: 0.0369 - accuracy: 0.9891 - val_loss: 0.0713 - val_accuracy: 0.9772\n",
      "Epoch 24/60\n",
      "860/860 [==============================] - 12s 14ms/step - loss: 0.0347 - accuracy: 0.9893 - val_loss: 0.0592 - val_accuracy: 0.9812\n",
      "Epoch 25/60\n",
      "860/860 [==============================] - 12s 14ms/step - loss: 0.0328 - accuracy: 0.9902 - val_loss: 0.0559 - val_accuracy: 0.9842\n",
      "Epoch 26/60\n",
      "860/860 [==============================] - 12s 14ms/step - loss: 0.0305 - accuracy: 0.9913 - val_loss: 0.0552 - val_accuracy: 0.9848\n",
      "Epoch 27/60\n",
      "860/860 [==============================] - 13s 15ms/step - loss: 0.0298 - accuracy: 0.9914 - val_loss: 0.0612 - val_accuracy: 0.9826\n",
      "Epoch 28/60\n",
      "860/860 [==============================] - 13s 15ms/step - loss: 0.0283 - accuracy: 0.9919 - val_loss: 0.0587 - val_accuracy: 0.9828\n",
      "Epoch 29/60\n",
      "860/860 [==============================] - 13s 15ms/step - loss: 0.0259 - accuracy: 0.9923 - val_loss: 0.0533 - val_accuracy: 0.9854\n",
      "Epoch 30/60\n",
      "860/860 [==============================] - 13s 15ms/step - loss: 0.0244 - accuracy: 0.9935 - val_loss: 0.0572 - val_accuracy: 0.9826\n",
      "Epoch 31/60\n",
      "860/860 [==============================] - 12s 14ms/step - loss: 0.0241 - accuracy: 0.9930 - val_loss: 0.0740 - val_accuracy: 0.9794\n",
      "Epoch 32/60\n",
      "860/860 [==============================] - 12s 14ms/step - loss: 0.0225 - accuracy: 0.9937 - val_loss: 0.0530 - val_accuracy: 0.9846\n",
      "Epoch 33/60\n",
      "860/860 [==============================] - 12s 14ms/step - loss: 0.0215 - accuracy: 0.9942 - val_loss: 0.0530 - val_accuracy: 0.9838\n",
      "Epoch 34/60\n",
      "860/860 [==============================] - 12s 14ms/step - loss: 0.0200 - accuracy: 0.9946 - val_loss: 0.0566 - val_accuracy: 0.9838\n",
      "Epoch 35/60\n",
      "860/860 [==============================] - 12s 14ms/step - loss: 0.0194 - accuracy: 0.9950 - val_loss: 0.0530 - val_accuracy: 0.9844\n",
      "Epoch 36/60\n",
      "860/860 [==============================] - 12s 14ms/step - loss: 0.0182 - accuracy: 0.9953 - val_loss: 0.0546 - val_accuracy: 0.9828\n",
      "Epoch 37/60\n",
      "860/860 [==============================] - 12s 14ms/step - loss: 0.0171 - accuracy: 0.9955 - val_loss: 0.0626 - val_accuracy: 0.9822\n",
      "Epoch 38/60\n",
      "860/860 [==============================] - 12s 14ms/step - loss: 0.0169 - accuracy: 0.9957 - val_loss: 0.0527 - val_accuracy: 0.9854\n",
      "Epoch 39/60\n",
      "860/860 [==============================] - 12s 14ms/step - loss: 0.0156 - accuracy: 0.9961 - val_loss: 0.0554 - val_accuracy: 0.9842\n",
      "Epoch 40/60\n",
      "860/860 [==============================] - 13s 15ms/step - loss: 0.0145 - accuracy: 0.9965 - val_loss: 0.0664 - val_accuracy: 0.9820\n",
      "Epoch 41/60\n",
      "860/860 [==============================] - 13s 15ms/step - loss: 0.0139 - accuracy: 0.9967 - val_loss: 0.1281 - val_accuracy: 0.9640\n",
      "Epoch 42/60\n",
      "860/860 [==============================] - 12s 14ms/step - loss: 0.0136 - accuracy: 0.9971 - val_loss: 0.0542 - val_accuracy: 0.9842\n",
      "Epoch 43/60\n",
      "860/860 [==============================] - 13s 15ms/step - loss: 0.0131 - accuracy: 0.9968 - val_loss: 0.0563 - val_accuracy: 0.9848\n",
      "Epoch 44/60\n",
      "860/860 [==============================] - 13s 15ms/step - loss: 0.0128 - accuracy: 0.9968 - val_loss: 0.0515 - val_accuracy: 0.9864\n",
      "Epoch 45/60\n",
      "860/860 [==============================] - 13s 15ms/step - loss: 0.0112 - accuracy: 0.9975 - val_loss: 0.0561 - val_accuracy: 0.9860\n",
      "Epoch 46/60\n",
      "860/860 [==============================] - 12s 14ms/step - loss: 0.0113 - accuracy: 0.9972 - val_loss: 0.0555 - val_accuracy: 0.9850\n",
      "Epoch 47/60\n",
      "860/860 [==============================] - 12s 14ms/step - loss: 0.0106 - accuracy: 0.9976 - val_loss: 0.0562 - val_accuracy: 0.9852\n",
      "Epoch 48/60\n",
      "860/860 [==============================] - 12s 14ms/step - loss: 0.0093 - accuracy: 0.9981 - val_loss: 0.0544 - val_accuracy: 0.9856\n",
      "Epoch 49/60\n",
      "860/860 [==============================] - 13s 15ms/step - loss: 0.0092 - accuracy: 0.9981 - val_loss: 0.0533 - val_accuracy: 0.9862\n",
      "Epoch 50/60\n",
      "860/860 [==============================] - 13s 15ms/step - loss: 0.0091 - accuracy: 0.9979 - val_loss: 0.1002 - val_accuracy: 0.9736\n",
      "Epoch 51/60\n",
      "860/860 [==============================] - 12s 14ms/step - loss: 0.0082 - accuracy: 0.9984 - val_loss: 0.0598 - val_accuracy: 0.9842\n",
      "Epoch 52/60\n",
      "860/860 [==============================] - 12s 14ms/step - loss: 0.0081 - accuracy: 0.9984 - val_loss: 0.0567 - val_accuracy: 0.9842\n",
      "Epoch 53/60\n",
      "860/860 [==============================] - 12s 14ms/step - loss: 0.0080 - accuracy: 0.9985 - val_loss: 0.0553 - val_accuracy: 0.9856\n",
      "Epoch 54/60\n",
      "860/860 [==============================] - 12s 14ms/step - loss: 0.0074 - accuracy: 0.9986 - val_loss: 0.0540 - val_accuracy: 0.9862\n",
      "Epoch 55/60\n",
      "860/860 [==============================] - 13s 15ms/step - loss: 0.0070 - accuracy: 0.9988 - val_loss: 0.0550 - val_accuracy: 0.9860\n",
      "Epoch 56/60\n",
      "860/860 [==============================] - 12s 14ms/step - loss: 0.0062 - accuracy: 0.9990 - val_loss: 0.0833 - val_accuracy: 0.9782\n",
      "Epoch 57/60\n",
      "860/860 [==============================] - 12s 14ms/step - loss: 0.0065 - accuracy: 0.9989 - val_loss: 0.0563 - val_accuracy: 0.9854\n",
      "Epoch 58/60\n",
      "860/860 [==============================] - 12s 14ms/step - loss: 0.0059 - accuracy: 0.9990 - val_loss: 0.0592 - val_accuracy: 0.9848\n",
      "Epoch 59/60\n",
      "860/860 [==============================] - 12s 14ms/step - loss: 0.0052 - accuracy: 0.9992 - val_loss: 0.0562 - val_accuracy: 0.9854\n",
      "Epoch 60/60\n",
      "860/860 [==============================] - 12s 14ms/step - loss: 0.0052 - accuracy: 0.9992 - val_loss: 0.0575 - val_accuracy: 0.9862\n",
      "Epoch 1/60\n",
      "860/860 [==============================] - 43s 50ms/step - loss: 0.4982 - accuracy: 0.8691 - val_loss: 0.2229 - val_accuracy: 0.9358\n",
      "Epoch 2/60\n",
      "860/860 [==============================] - 43s 50ms/step - loss: 0.2088 - accuracy: 0.9387 - val_loss: 0.1766 - val_accuracy: 0.9508\n",
      "Epoch 3/60\n",
      "860/860 [==============================] - 42s 49ms/step - loss: 0.1568 - accuracy: 0.9535 - val_loss: 0.1299 - val_accuracy: 0.9640\n",
      "Epoch 4/60\n",
      "860/860 [==============================] - 43s 50ms/step - loss: 0.1264 - accuracy: 0.9625 - val_loss: 0.1078 - val_accuracy: 0.9698\n",
      "Epoch 5/60\n",
      "860/860 [==============================] - 42s 49ms/step - loss: 0.1064 - accuracy: 0.9686 - val_loss: 0.1025 - val_accuracy: 0.9684\n",
      "Epoch 6/60\n",
      "860/860 [==============================] - 42s 49ms/step - loss: 0.0923 - accuracy: 0.9723 - val_loss: 0.0958 - val_accuracy: 0.9726\n",
      "Epoch 7/60\n",
      "860/860 [==============================] - 41s 47ms/step - loss: 0.0813 - accuracy: 0.9759 - val_loss: 0.0851 - val_accuracy: 0.9748\n",
      "Epoch 8/60\n",
      "860/860 [==============================] - 41s 48ms/step - loss: 0.0714 - accuracy: 0.9789 - val_loss: 0.1034 - val_accuracy: 0.9702\n",
      "Epoch 9/60\n",
      "860/860 [==============================] - 42s 49ms/step - loss: 0.0649 - accuracy: 0.9801 - val_loss: 0.0738 - val_accuracy: 0.9780\n",
      "Epoch 10/60\n",
      "860/860 [==============================] - 42s 49ms/step - loss: 0.0590 - accuracy: 0.9824 - val_loss: 0.0658 - val_accuracy: 0.9822\n",
      "Epoch 11/60\n",
      "860/860 [==============================] - 42s 49ms/step - loss: 0.0531 - accuracy: 0.9839 - val_loss: 0.0672 - val_accuracy: 0.9814\n",
      "Epoch 12/60\n",
      "860/860 [==============================] - 43s 50ms/step - loss: 0.0478 - accuracy: 0.9859 - val_loss: 0.0794 - val_accuracy: 0.9750\n",
      "Epoch 13/60\n",
      "860/860 [==============================] - 43s 49ms/step - loss: 0.0441 - accuracy: 0.9863 - val_loss: 0.0812 - val_accuracy: 0.9764\n",
      "Epoch 14/60\n",
      "860/860 [==============================] - 43s 50ms/step - loss: 0.0401 - accuracy: 0.9880 - val_loss: 0.1289 - val_accuracy: 0.9646\n",
      "Epoch 15/60\n",
      "860/860 [==============================] - 42s 49ms/step - loss: 0.0369 - accuracy: 0.9892 - val_loss: 0.0609 - val_accuracy: 0.9820\n",
      "Epoch 16/60\n",
      "860/860 [==============================] - 43s 50ms/step - loss: 0.0336 - accuracy: 0.9902 - val_loss: 0.0599 - val_accuracy: 0.9818\n",
      "Epoch 17/60\n",
      "860/860 [==============================] - 42s 49ms/step - loss: 0.0316 - accuracy: 0.9906 - val_loss: 0.0581 - val_accuracy: 0.9830\n",
      "Epoch 18/60\n",
      "860/860 [==============================] - 46s 53ms/step - loss: 0.0288 - accuracy: 0.9916 - val_loss: 0.0604 - val_accuracy: 0.9812\n",
      "Epoch 19/60\n",
      "860/860 [==============================] - 44s 51ms/step - loss: 0.0261 - accuracy: 0.9924 - val_loss: 0.0607 - val_accuracy: 0.9824\n",
      "Epoch 20/60\n",
      "860/860 [==============================] - 43s 49ms/step - loss: 0.0248 - accuracy: 0.9927 - val_loss: 0.0591 - val_accuracy: 0.9844\n",
      "Epoch 21/60\n",
      "860/860 [==============================] - 43s 50ms/step - loss: 0.0219 - accuracy: 0.9942 - val_loss: 0.0582 - val_accuracy: 0.9840\n",
      "Epoch 22/60\n",
      "860/860 [==============================] - 42s 49ms/step - loss: 0.0202 - accuracy: 0.9946 - val_loss: 0.0670 - val_accuracy: 0.9806\n",
      "Epoch 23/60\n",
      "860/860 [==============================] - 44s 51ms/step - loss: 0.0191 - accuracy: 0.9950 - val_loss: 0.0613 - val_accuracy: 0.9828\n",
      "Epoch 24/60\n",
      "860/860 [==============================] - 42s 49ms/step - loss: 0.0171 - accuracy: 0.9959 - val_loss: 0.0614 - val_accuracy: 0.9836\n",
      "Epoch 25/60\n",
      "860/860 [==============================] - 42s 49ms/step - loss: 0.0158 - accuracy: 0.9961 - val_loss: 0.0540 - val_accuracy: 0.9866\n",
      "Epoch 26/60\n",
      "860/860 [==============================] - 42s 49ms/step - loss: 0.0145 - accuracy: 0.9966 - val_loss: 0.0623 - val_accuracy: 0.9838\n",
      "Epoch 27/60\n",
      "860/860 [==============================] - 42s 49ms/step - loss: 0.0131 - accuracy: 0.9970 - val_loss: 0.0569 - val_accuracy: 0.9848\n",
      "Epoch 28/60\n",
      "860/860 [==============================] - 43s 50ms/step - loss: 0.0118 - accuracy: 0.9977 - val_loss: 0.0580 - val_accuracy: 0.9840\n",
      "Epoch 29/60\n",
      "860/860 [==============================] - 43s 50ms/step - loss: 0.0106 - accuracy: 0.9978 - val_loss: 0.0586 - val_accuracy: 0.9838\n",
      "Epoch 30/60\n",
      "860/860 [==============================] - 43s 50ms/step - loss: 0.0098 - accuracy: 0.9981 - val_loss: 0.0548 - val_accuracy: 0.9850\n",
      "Epoch 31/60\n",
      "860/860 [==============================] - 44s 51ms/step - loss: 0.0090 - accuracy: 0.9983 - val_loss: 0.0689 - val_accuracy: 0.9814\n",
      "Epoch 32/60\n",
      "860/860 [==============================] - 43s 50ms/step - loss: 0.0083 - accuracy: 0.9985 - val_loss: 0.0572 - val_accuracy: 0.9842\n",
      "Epoch 33/60\n",
      "860/860 [==============================] - 42s 49ms/step - loss: 0.0078 - accuracy: 0.9985 - val_loss: 0.0569 - val_accuracy: 0.9840\n",
      "Epoch 34/60\n",
      "860/860 [==============================] - 42s 49ms/step - loss: 0.0069 - accuracy: 0.9988 - val_loss: 0.0585 - val_accuracy: 0.9856\n",
      "Epoch 35/60\n",
      "860/860 [==============================] - 40s 46ms/step - loss: 0.0067 - accuracy: 0.9989 - val_loss: 0.0568 - val_accuracy: 0.9860\n",
      "Epoch 36/60\n",
      "860/860 [==============================] - 41s 47ms/step - loss: 0.0061 - accuracy: 0.9990 - val_loss: 0.0565 - val_accuracy: 0.9852\n",
      "Epoch 37/60\n",
      "860/860 [==============================] - 42s 49ms/step - loss: 0.0056 - accuracy: 0.9991 - val_loss: 0.0561 - val_accuracy: 0.9852\n",
      "Epoch 38/60\n",
      "860/860 [==============================] - 43s 50ms/step - loss: 0.0050 - accuracy: 0.9992 - val_loss: 0.0566 - val_accuracy: 0.9854\n",
      "Epoch 39/60\n",
      "860/860 [==============================] - 42s 49ms/step - loss: 0.0046 - accuracy: 0.9994 - val_loss: 0.0582 - val_accuracy: 0.9842\n",
      "Epoch 40/60\n",
      "860/860 [==============================] - 41s 48ms/step - loss: 0.0040 - accuracy: 0.9996 - val_loss: 0.0575 - val_accuracy: 0.9860\n",
      "Epoch 41/60\n",
      "860/860 [==============================] - 42s 48ms/step - loss: 0.0039 - accuracy: 0.9995 - val_loss: 0.0582 - val_accuracy: 0.9856\n",
      "Epoch 42/60\n",
      "860/860 [==============================] - 41s 47ms/step - loss: 0.0034 - accuracy: 0.9997 - val_loss: 0.0583 - val_accuracy: 0.9862\n",
      "Epoch 43/60\n",
      "860/860 [==============================] - 42s 49ms/step - loss: 0.0033 - accuracy: 0.9997 - val_loss: 0.0600 - val_accuracy: 0.9846\n",
      "Epoch 44/60\n",
      "860/860 [==============================] - 42s 48ms/step - loss: 0.0032 - accuracy: 0.9997 - val_loss: 0.0589 - val_accuracy: 0.9858\n",
      "Epoch 45/60\n",
      "860/860 [==============================] - 41s 47ms/step - loss: 0.0027 - accuracy: 0.9998 - val_loss: 0.0597 - val_accuracy: 0.9856\n",
      "Epoch 46/60\n",
      "860/860 [==============================] - 42s 49ms/step - loss: 0.0027 - accuracy: 0.9998 - val_loss: 0.0594 - val_accuracy: 0.9846\n",
      "Epoch 47/60\n",
      "860/860 [==============================] - 42s 49ms/step - loss: 0.0026 - accuracy: 0.9997 - val_loss: 0.0616 - val_accuracy: 0.9852\n",
      "Epoch 48/60\n",
      "860/860 [==============================] - 42s 49ms/step - loss: 0.0023 - accuracy: 0.9999 - val_loss: 0.0613 - val_accuracy: 0.9858\n",
      "Epoch 49/60\n",
      "860/860 [==============================] - 42s 49ms/step - loss: 0.0021 - accuracy: 0.9999 - val_loss: 0.0603 - val_accuracy: 0.9866\n",
      "Epoch 50/60\n",
      "860/860 [==============================] - 41s 48ms/step - loss: 0.0020 - accuracy: 0.9999 - val_loss: 0.0604 - val_accuracy: 0.9864\n",
      "Epoch 51/60\n",
      "860/860 [==============================] - 41s 48ms/step - loss: 0.0019 - accuracy: 0.9999 - val_loss: 0.0606 - val_accuracy: 0.9856\n",
      "Epoch 52/60\n",
      "860/860 [==============================] - 41s 48ms/step - loss: 0.0019 - accuracy: 0.9999 - val_loss: 0.0610 - val_accuracy: 0.9862\n",
      "Epoch 53/60\n",
      "860/860 [==============================] - 41s 48ms/step - loss: 0.0019 - accuracy: 0.9999 - val_loss: 0.0630 - val_accuracy: 0.9854\n",
      "Epoch 54/60\n",
      "860/860 [==============================] - 42s 49ms/step - loss: 0.0017 - accuracy: 0.9999 - val_loss: 0.0617 - val_accuracy: 0.9858\n",
      "Epoch 55/60\n",
      "860/860 [==============================] - 42s 49ms/step - loss: 0.0015 - accuracy: 1.0000 - val_loss: 0.0627 - val_accuracy: 0.9852\n",
      "Epoch 56/60\n",
      "860/860 [==============================] - 43s 50ms/step - loss: 0.0015 - accuracy: 1.0000 - val_loss: 0.0635 - val_accuracy: 0.9850\n",
      "Epoch 57/60\n",
      "860/860 [==============================] - 42s 49ms/step - loss: 0.0015 - accuracy: 1.0000 - val_loss: 0.0628 - val_accuracy: 0.9860\n",
      "Epoch 58/60\n",
      "860/860 [==============================] - 42s 49ms/step - loss: 0.0014 - accuracy: 1.0000 - val_loss: 0.0636 - val_accuracy: 0.9858\n",
      "Epoch 59/60\n",
      "860/860 [==============================] - 42s 49ms/step - loss: 0.0014 - accuracy: 1.0000 - val_loss: 0.0632 - val_accuracy: 0.9862\n",
      "Epoch 60/60\n",
      "860/860 [==============================] - 42s 49ms/step - loss: 0.0013 - accuracy: 1.0000 - val_loss: 0.0646 - val_accuracy: 0.9856\n"
     ]
    }
   ],
   "source": [
    "model_history_a = model_a.fit(X_train, y_train, epochs=60,batch_size = 64,\n",
    "                 validation_data=(X_valid,y_valid))\n",
    "model_history_b = model_b.fit(X_train, y_train, epochs=60,batch_size = 64,\n",
    "                 validation_data=(X_valid,y_valid))"
   ]
  },
  {
   "cell_type": "code",
   "execution_count": 59,
   "id": "fixed-monthly",
   "metadata": {},
   "outputs": [
    {
     "data": {
      "text/plain": [
       "<function matplotlib.pyplot.show(close=None, block=None)>"
      ]
     },
     "execution_count": 59,
     "metadata": {},
     "output_type": "execute_result"
    },
    {
     "data": {
      "image/png": "[encoded data removed]",
      "text/plain": [
       "<Figure size 576x360 with 1 Axes>"
      ]
     },
     "metadata": {
      "needs_background": "light"
     },
     "output_type": "display_data"
    },
    {
     "data": {
      "image/png": "[encoded data removed]",
      "text/plain": [
       "<Figure size 576x360 with 1 Axes>"
      ]
     },
     "metadata": {
      "needs_background": "light"
     },
     "output_type": "display_data"
    }
   ],
   "source": [
    "import pandas as pd\n",
    "\n",
    "pd.DataFrame(model_history_a.history).plot(figsize =(8,5))\n",
    "plt.grid(True)\n",
    "plt.gca().set_ylim(0,1)\n",
    "plt.show\n",
    "\n",
    "pd.DataFrame(model_history_b.history).plot(figsize =(8,5))\n",
    "plt.grid(True)\n",
    "plt.gca().set_ylim(0,1)\n",
    "plt.show"
   ]
  },
  {
   "cell_type": "code",
   "execution_count": 60,
   "id": "broke-switch",
   "metadata": {},
   "outputs": [
    {
     "name": "stdout",
     "output_type": "stream",
     "text": [
      "313/313 [==============================] - 1s 3ms/step - loss: 0.0585 - accuracy: 0.9838\n",
      "313/313 [==============================] - 0s 490us/step - loss: 0.0000e+00 - accuracy: 0.0000e+00\n"
     ]
    }
   ],
   "source": [
    "ev = model_a.evaluate(X_test_n, y_test)\n",
    "ev = model_b.evaluate(X_test)"
   ]
  },
  {
   "cell_type": "code",
   "execution_count": 61,
   "id": "fatty-travel",
   "metadata": {},
   "outputs": [
    {
     "data": {
      "text/plain": [
       "[0.0, 0.0]"
      ]
     },
     "execution_count": 61,
     "metadata": {},
     "output_type": "execute_result"
    }
   ],
   "source": [
    "ev"
   ]
  },
  {
   "cell_type": "code",
   "execution_count": 62,
   "id": "timely-dining",
   "metadata": {},
   "outputs": [],
   "source": [
    "X_new = X_test[:3]"
   ]
  },
  {
   "cell_type": "code",
   "execution_count": 68,
   "id": "polyphonic-wagner",
   "metadata": {},
   "outputs": [
    {
     "data": {
      "text/plain": [
       "array([[1.5805170e-11, 3.4849093e-10, 6.5551514e-10, 2.2816614e-06,\n",
       "        1.7732206e-15, 8.0863753e-12, 4.5287912e-20, 9.9999774e-01,\n",
       "        5.1096623e-12, 2.6515812e-08],\n",
       "       [6.8929667e-12, 1.3307980e-10, 1.0000000e+00, 4.2409617e-11,\n",
       "        5.6753403e-21, 4.7307006e-15, 1.4393800e-14, 2.9061426e-21,\n",
       "        1.6790966e-10, 4.2609404e-22],\n",
       "       [1.8153125e-08, 9.9994624e-01, 8.9601849e-07, 1.8890020e-08,\n",
       "        3.7241862e-06, 4.2682307e-09, 3.5556923e-07, 1.3188801e-05,\n",
       "        3.5507757e-05, 1.6118044e-10]], dtype=float32)"
      ]
     },
     "execution_count": 68,
     "metadata": {},
     "output_type": "execute_result"
    }
   ],
   "source": [
    "y_pred = model_a.predict(X_new)\n",
    "y_pred\n",
    "\n",
    "y_pred = model_b.predict(X_new)\n",
    "y_pred"
   ]
  },
  {
   "cell_type": "code",
   "execution_count": 69,
   "id": "beginning-tucson",
   "metadata": {},
   "outputs": [
    {
     "data": {
      "text/plain": [
       "array([7, 2, 1], dtype=uint8)"
      ]
     },
     "execution_count": 69,
     "metadata": {},
     "output_type": "execute_result"
    }
   ],
   "source": [
    "y_test[:3]"
   ]
  },
  {
   "cell_type": "code",
   "execution_count": 70,
   "id": "popular-afghanistan",
   "metadata": {},
   "outputs": [
    {
     "name": "stdout",
     "output_type": "stream",
     "text": [
      "AxesImage(54,36;334.8x217.44)\n"
     ]
    },
    {
     "data": {
      "image/png": "[encoded data removed]",
      "text/plain": [
       "<Figure size 432x288 with 1 Axes>"
      ]
     },
     "metadata": {
      "needs_background": "light"
     },
     "output_type": "display_data"
    }
   ],
   "source": [
    "print(plt.imshow(X_test[0].reshape((28,28))))"
   ]
  },
  {
   "cell_type": "code",
   "execution_count": null,
   "id": "sustained-quick",
   "metadata": {},
   "outputs": [],
   "source": []
  }
 ],
 "metadata": {
  "kernelspec": {
   "display_name": "Python 3",
   "language": "python",
   "name": "python3"
  },
  "language_info": {
   "codemirror_mode": {
    "name": "ipython",
    "version": 3
   },
   "file_extension": ".py",
   "mimetype": "text/x-python",
   "name": "python",
   "nbconvert_exporter": "python",
   "pygments_lexer": "ipython3",
   "version": "3.7.9"
  }
 },
 "nbformat": 4,
 "nbformat_minor": 5
}
